{
 "cells": [
  {
   "cell_type": "markdown",
   "metadata": {},
   "source": [
    "# Download data Set and load"
   ]
  },
  {
   "cell_type": "code",
   "execution_count": 1,
   "metadata": {},
   "outputs": [
    {
     "name": "stdout",
     "output_type": "stream",
     "text": [
      "LAB 2: Evaluation of Machine Learning Regressors: Implementation and Analysis\n",
      "Python ≥3.5 and Scikit-Learn ≥0.20 are required.\n"
     ]
    }
   ],
   "source": [
    "print(\"LAB 2: Evaluation of Machine Learning Regressors: Implementation and Analysis\")\n",
    "print(\"Python ≥3.5 and Scikit-Learn ≥0.20 are required.\")\n",
    "\n",
    "# Python ≥3.5 is required\n",
    "import sys\n",
    "assert sys.version_info >= (3, 5)\n",
    "# Scikit-Learn ≥0.20 is required\n",
    "import sklearn\n",
    "assert sklearn.__version__ >= \"0.20\"\n",
    "\n",
    "import numpy as np\n",
    "import os\n",
    "import tarfile\n",
    "import urllib.request\n",
    "import pandas as pd\n",
    "\n",
    "DOWNLOAD_ROOT = \"https://raw.githubusercontent.com/ageron/handson-ml2/master/\"\n",
    "HOUSING_PATH = os.path.join(\"datasets\", \"housing\")\n",
    "HOUSING_URL = DOWNLOAD_ROOT + \"datasets/housing/housing.tgz\"\n",
    "\n",
    "# Funtion create for download and extract the data\n",
    "def fetch_housing_data(housing_url=HOUSING_URL, housing_path=HOUSING_PATH):\n",
    "    if not os.path.isdir(housing_path):\n",
    "        os.makedirs(housing_path)\n",
    "    tgz_path = os.path.join(housing_path, \"housing.tgz\")\n",
    "    urllib.request.urlretrieve(housing_url, tgz_path)\n",
    "    housing_tgz = tarfile.open(tgz_path)\n",
    "    housing_tgz.extractall(path=housing_path)\n",
    "    housing_tgz.close()\n",
    "\n",
    "fetch_housing_data()\n",
    "\n",
    "#import data to Pandas DataFrame \n",
    "def load_housing_data(housing_path=HOUSING_PATH):\n",
    "    csv_path = os.path.join(housing_path, \"housing.csv\")\n",
    "    return pd.read_csv(csv_path)\n",
    "\n",
    "#Load housing Data\n",
    "housing = load_housing_data()\n"
   ]
  },
  {
   "cell_type": "markdown",
   "metadata": {},
   "source": [
    "# Test set generation"
   ]
  },
  {
   "cell_type": "markdown",
   "metadata": {},
   "source": [
    "Adding data set splitting category based on median income"
   ]
  },
  {
   "cell_type": "code",
   "execution_count": 2,
   "metadata": {},
   "outputs": [],
   "source": [
    "housing[\"income_cat\"] = pd.cut(housing[\"median_income\"],\n",
    "                               bins=[0., 1.5, 3.0, 4.5, 6., np.inf],\n",
    "                               labels=[1, 2, 3, 4, 5])"
   ]
  },
  {
   "cell_type": "code",
   "execution_count": 3,
   "metadata": {},
   "outputs": [],
   "source": [
    "from sklearn.model_selection import StratifiedShuffleSplit\n",
    "\n",
    "split = StratifiedShuffleSplit(n_splits=1, test_size=0.2, random_state=42)\n",
    "for train_index, test_index in split.split(housing, housing[\"income_cat\"]):\n",
    "    strat_train_set = housing.loc[train_index]\n",
    "    strat_test_set = housing.loc[test_index]"
   ]
  },
  {
   "cell_type": "code",
   "execution_count": 4,
   "metadata": {},
   "outputs": [],
   "source": [
    "for set_ in (strat_train_set, strat_test_set):\n",
    "    set_.drop(\"income_cat\", axis=1, inplace=True)"
   ]
  },
  {
   "cell_type": "code",
   "execution_count": 5,
   "metadata": {},
   "outputs": [],
   "source": [
    "housing = strat_train_set.copy()"
   ]
  },
  {
   "cell_type": "markdown",
   "metadata": {},
   "source": [
    "# Prepare the Data"
   ]
  },
  {
   "cell_type": "code",
   "execution_count": 6,
   "metadata": {},
   "outputs": [],
   "source": [
    "housing = strat_train_set.drop(\"median_house_value\", axis=1) # drop labels for training set\n",
    "housing_labels = strat_train_set[\"median_house_value\"].copy()"
   ]
  },
  {
   "cell_type": "code",
   "execution_count": 7,
   "metadata": {},
   "outputs": [],
   "source": [
    "housing_num = housing.drop(\"ocean_proximity\", axis=1)"
   ]
  },
  {
   "cell_type": "markdown",
   "metadata": {},
   "source": [
    "Fill the missing data with median value of the each attributes."
   ]
  },
  {
   "cell_type": "code",
   "execution_count": 8,
   "metadata": {},
   "outputs": [],
   "source": [
    "from sklearn.impute import SimpleImputer\n",
    "imputer = SimpleImputer(strategy=\"median\")\n",
    "imputer.fit(housing_num)\n",
    "#Apply the imputation (Transform the training set)\n",
    "housing_num_imputed = imputer.transform(housing_num)"
   ]
  },
  {
   "cell_type": "markdown",
   "metadata": {},
   "source": [
    "Handling text attribute in the data set with OneHotEncoder"
   ]
  },
  {
   "cell_type": "code",
   "execution_count": 9,
   "metadata": {},
   "outputs": [],
   "source": [
    "from sklearn.preprocessing import OneHotEncoder\n",
    "housing_cat = housing[[\"ocean_proximity\"]]\n",
    "cat_encoder = OneHotEncoder(sparse=False)\n",
    "housing_cat_1hot = cat_encoder.fit_transform(housing_cat)\n"
   ]
  },
  {
   "cell_type": "code",
   "execution_count": 10,
   "metadata": {},
   "outputs": [],
   "source": [
    "from sklearn.base import BaseEstimator, TransformerMixin\n",
    "\n",
    "# column index\n",
    "col_names = \"total_rooms\", \"total_bedrooms\", \"population\", \"households\"\n",
    "rooms_ix, bedrooms_ix, population_ix, households_ix = [\n",
    "    housing.columns.get_loc(c) for c in col_names] # get the column indices\n",
    "\n",
    "class CombinedAttributesAdder(BaseEstimator, TransformerMixin):\n",
    "    def __init__(self, add_bedrooms_per_room=True): # no *args or **kargs\n",
    "        self.add_bedrooms_per_room = add_bedrooms_per_room\n",
    "    def fit(self, X, y=None):\n",
    "        return self  # nothing else to do\n",
    "    def transform(self, X):\n",
    "        rooms_per_household = X[:, rooms_ix] / X[:, households_ix]\n",
    "        population_per_household = X[:, population_ix] / X[:, households_ix]\n",
    "        if self.add_bedrooms_per_room:\n",
    "            bedrooms_per_room = X[:, bedrooms_ix] / X[:, rooms_ix]\n",
    "            return np.c_[X, rooms_per_household, population_per_household,\n",
    "                         bedrooms_per_room]\n",
    "        else:\n",
    "            return np.c_[X, rooms_per_household, population_per_household]\n",
    "\n",
    "attr_adder = CombinedAttributesAdder(add_bedrooms_per_room=False)\n",
    "housing_extra_attribs = attr_adder.transform(housing.values)"
   ]
  },
  {
   "cell_type": "code",
   "execution_count": 11,
   "metadata": {},
   "outputs": [
    {
     "data": {
      "text/html": [
       "<div>\n",
       "<style scoped>\n",
       "    .dataframe tbody tr th:only-of-type {\n",
       "        vertical-align: middle;\n",
       "    }\n",
       "\n",
       "    .dataframe tbody tr th {\n",
       "        vertical-align: top;\n",
       "    }\n",
       "\n",
       "    .dataframe thead th {\n",
       "        text-align: right;\n",
       "    }\n",
       "</style>\n",
       "<table border=\"1\" class=\"dataframe\">\n",
       "  <thead>\n",
       "    <tr style=\"text-align: right;\">\n",
       "      <th></th>\n",
       "      <th>longitude</th>\n",
       "      <th>latitude</th>\n",
       "      <th>housing_median_age</th>\n",
       "      <th>total_rooms</th>\n",
       "      <th>total_bedrooms</th>\n",
       "      <th>population</th>\n",
       "      <th>households</th>\n",
       "      <th>median_income</th>\n",
       "      <th>ocean_proximity</th>\n",
       "      <th>rooms_per_household</th>\n",
       "      <th>population_per_household</th>\n",
       "    </tr>\n",
       "  </thead>\n",
       "  <tbody>\n",
       "    <tr>\n",
       "      <th>12655</th>\n",
       "      <td>-121.46</td>\n",
       "      <td>38.52</td>\n",
       "      <td>29.0</td>\n",
       "      <td>3873.0</td>\n",
       "      <td>797.0</td>\n",
       "      <td>2237.0</td>\n",
       "      <td>706.0</td>\n",
       "      <td>2.1736</td>\n",
       "      <td>INLAND</td>\n",
       "      <td>5.485836</td>\n",
       "      <td>3.168555</td>\n",
       "    </tr>\n",
       "    <tr>\n",
       "      <th>15502</th>\n",
       "      <td>-117.23</td>\n",
       "      <td>33.09</td>\n",
       "      <td>7.0</td>\n",
       "      <td>5320.0</td>\n",
       "      <td>855.0</td>\n",
       "      <td>2015.0</td>\n",
       "      <td>768.0</td>\n",
       "      <td>6.3373</td>\n",
       "      <td>NEAR OCEAN</td>\n",
       "      <td>6.927083</td>\n",
       "      <td>2.623698</td>\n",
       "    </tr>\n",
       "    <tr>\n",
       "      <th>2908</th>\n",
       "      <td>-119.04</td>\n",
       "      <td>35.37</td>\n",
       "      <td>44.0</td>\n",
       "      <td>1618.0</td>\n",
       "      <td>310.0</td>\n",
       "      <td>667.0</td>\n",
       "      <td>300.0</td>\n",
       "      <td>2.875</td>\n",
       "      <td>INLAND</td>\n",
       "      <td>5.393333</td>\n",
       "      <td>2.223333</td>\n",
       "    </tr>\n",
       "    <tr>\n",
       "      <th>14053</th>\n",
       "      <td>-117.13</td>\n",
       "      <td>32.75</td>\n",
       "      <td>24.0</td>\n",
       "      <td>1877.0</td>\n",
       "      <td>519.0</td>\n",
       "      <td>898.0</td>\n",
       "      <td>483.0</td>\n",
       "      <td>2.2264</td>\n",
       "      <td>NEAR OCEAN</td>\n",
       "      <td>3.886128</td>\n",
       "      <td>1.859213</td>\n",
       "    </tr>\n",
       "    <tr>\n",
       "      <th>20496</th>\n",
       "      <td>-118.7</td>\n",
       "      <td>34.28</td>\n",
       "      <td>27.0</td>\n",
       "      <td>3536.0</td>\n",
       "      <td>646.0</td>\n",
       "      <td>1837.0</td>\n",
       "      <td>580.0</td>\n",
       "      <td>4.4964</td>\n",
       "      <td>&lt;1H OCEAN</td>\n",
       "      <td>6.096552</td>\n",
       "      <td>3.167241</td>\n",
       "    </tr>\n",
       "  </tbody>\n",
       "</table>\n",
       "</div>"
      ],
      "text/plain": [
       "      longitude latitude housing_median_age total_rooms total_bedrooms  \\\n",
       "12655   -121.46    38.52               29.0      3873.0          797.0   \n",
       "15502   -117.23    33.09                7.0      5320.0          855.0   \n",
       "2908    -119.04    35.37               44.0      1618.0          310.0   \n",
       "14053   -117.13    32.75               24.0      1877.0          519.0   \n",
       "20496    -118.7    34.28               27.0      3536.0          646.0   \n",
       "\n",
       "      population households median_income ocean_proximity rooms_per_household  \\\n",
       "12655     2237.0      706.0        2.1736          INLAND            5.485836   \n",
       "15502     2015.0      768.0        6.3373      NEAR OCEAN            6.927083   \n",
       "2908       667.0      300.0         2.875          INLAND            5.393333   \n",
       "14053      898.0      483.0        2.2264      NEAR OCEAN            3.886128   \n",
       "20496     1837.0      580.0        4.4964       <1H OCEAN            6.096552   \n",
       "\n",
       "      population_per_household  \n",
       "12655                 3.168555  \n",
       "15502                 2.623698  \n",
       "2908                  2.223333  \n",
       "14053                 1.859213  \n",
       "20496                 3.167241  "
      ]
     },
     "execution_count": 11,
     "metadata": {},
     "output_type": "execute_result"
    }
   ],
   "source": [
    "housing_extra_attribs = pd.DataFrame(\n",
    "    housing_extra_attribs,\n",
    "    columns=list(housing.columns)+[\"rooms_per_household\", \"population_per_household\"],\n",
    "    index=housing.index)\n",
    "housing_extra_attribs.head()"
   ]
  },
  {
   "cell_type": "code",
   "execution_count": 12,
   "metadata": {},
   "outputs": [],
   "source": [
    "from sklearn.pipeline import Pipeline\n",
    "from sklearn.preprocessing import StandardScaler\n",
    "\n",
    "num_pipeline = Pipeline([\n",
    "        ('imputer', SimpleImputer(strategy=\"median\")),\n",
    "        ('attribs_adder', CombinedAttributesAdder()),\n",
    "        ('std_scaler', StandardScaler()),\n",
    "    ])\n",
    "\n",
    "housing_num_tr = num_pipeline.fit_transform(housing_num)"
   ]
  },
  {
   "cell_type": "code",
   "execution_count": 13,
   "metadata": {},
   "outputs": [],
   "source": [
    "from sklearn.compose import ColumnTransformer\n",
    "\n",
    "num_attribs = list(housing_num)\n",
    "cat_attribs = [\"ocean_proximity\"]\n",
    "\n",
    "full_pipeline = ColumnTransformer([\n",
    "        (\"num\", num_pipeline, num_attribs),\n",
    "        (\"cat\", OneHotEncoder(), cat_attribs),\n",
    "    ])\n",
    "\n",
    "housing_prepared = full_pipeline.fit_transform(housing)"
   ]
  },
  {
   "cell_type": "code",
   "execution_count": 14,
   "metadata": {},
   "outputs": [
    {
     "data": {
      "text/plain": [
       "array([[-0.94135046,  1.34743822,  0.02756357, ...,  0.        ,\n",
       "         0.        ,  0.        ],\n",
       "       [ 1.17178212, -1.19243966, -1.72201763, ...,  0.        ,\n",
       "         0.        ,  1.        ],\n",
       "       [ 0.26758118, -0.1259716 ,  1.22045984, ...,  0.        ,\n",
       "         0.        ,  0.        ],\n",
       "       ...,\n",
       "       [-1.5707942 ,  1.31001828,  1.53856552, ...,  0.        ,\n",
       "         0.        ,  0.        ],\n",
       "       [-1.56080303,  1.2492109 , -1.1653327 , ...,  0.        ,\n",
       "         0.        ,  0.        ],\n",
       "       [-1.28105026,  2.02567448, -0.13148926, ...,  0.        ,\n",
       "         0.        ,  0.        ]])"
      ]
     },
     "execution_count": 14,
     "metadata": {},
     "output_type": "execute_result"
    }
   ],
   "source": [
    "housing_prepared"
   ]
  },
  {
   "cell_type": "code",
   "execution_count": 15,
   "metadata": {},
   "outputs": [
    {
     "data": {
      "text/plain": [
       "(16512, 16)"
      ]
     },
     "execution_count": 15,
     "metadata": {},
     "output_type": "execute_result"
    }
   ],
   "source": [
    "housing_prepared.shape"
   ]
  },
  {
   "cell_type": "markdown",
   "metadata": {},
   "source": [
    "## Train Linear Regression model on prepared data set "
   ]
  },
  {
   "cell_type": "code",
   "execution_count": 16,
   "metadata": {},
   "outputs": [
    {
     "data": {
      "text/plain": [
       "LinearRegression()"
      ]
     },
     "execution_count": 16,
     "metadata": {},
     "output_type": "execute_result"
    }
   ],
   "source": [
    "from sklearn.linear_model import LinearRegression\n",
    "\n",
    "lin_reg = LinearRegression()\n",
    "lin_reg.fit(housing_prepared, housing_labels)"
   ]
  },
  {
   "cell_type": "code",
   "execution_count": 17,
   "metadata": {},
   "outputs": [
    {
     "name": "stdout",
     "output_type": "stream",
     "text": [
      "Predictions: [ 85657.90192014 305492.60737488 152056.46122456 186095.70946094\n",
      " 244550.67966089]\n"
     ]
    }
   ],
   "source": [
    "some_data = housing.iloc[:5]\n",
    "some_labels = housing_labels.iloc[:5]\n",
    "some_data_prepared = full_pipeline.transform(some_data)\n",
    "\n",
    "print(\"Predictions:\", lin_reg.predict(some_data_prepared))"
   ]
  },
  {
   "cell_type": "code",
   "execution_count": 18,
   "metadata": {},
   "outputs": [
    {
     "name": "stdout",
     "output_type": "stream",
     "text": [
      "Labels: [72100.0, 279600.0, 82700.0, 112500.0, 238300.0]\n"
     ]
    }
   ],
   "source": [
    "print(\"Labels:\", list(some_labels))"
   ]
  },
  {
   "cell_type": "markdown",
   "metadata": {},
   "source": [
    " Root-Mean-Squared-Error"
   ]
  },
  {
   "cell_type": "code",
   "execution_count": 19,
   "metadata": {},
   "outputs": [
    {
     "data": {
      "text/plain": [
       "68627.87390018745"
      ]
     },
     "execution_count": 19,
     "metadata": {},
     "output_type": "execute_result"
    }
   ],
   "source": [
    "from sklearn.metrics import mean_squared_error\n",
    "\n",
    "housing_predictions = lin_reg.predict(housing_prepared)\n",
    "lin_mse = mean_squared_error(housing_labels, housing_predictions)\n",
    "lin_rmse = np.sqrt(lin_mse)\n",
    "lin_rmse"
   ]
  },
  {
   "cell_type": "code",
   "execution_count": 20,
   "metadata": {},
   "outputs": [
    {
     "data": {
      "text/plain": [
       "49438.66860915801"
      ]
     },
     "execution_count": 20,
     "metadata": {},
     "output_type": "execute_result"
    }
   ],
   "source": [
    "from sklearn.metrics import mean_absolute_error\n",
    "\n",
    "lin_mae = mean_absolute_error(housing_labels, housing_predictions)\n",
    "lin_mae"
   ]
  },
  {
   "cell_type": "markdown",
   "metadata": {},
   "source": [
    "## Train Decision Tree Regression model on prepared data set"
   ]
  },
  {
   "cell_type": "code",
   "execution_count": 21,
   "metadata": {},
   "outputs": [
    {
     "data": {
      "text/plain": [
       "DecisionTreeRegressor(random_state=42)"
      ]
     },
     "execution_count": 21,
     "metadata": {},
     "output_type": "execute_result"
    }
   ],
   "source": [
    "from sklearn.tree import DecisionTreeRegressor\n",
    "\n",
    "tree_reg = DecisionTreeRegressor(random_state=42)\n",
    "tree_reg.fit(housing_prepared, housing_labels)"
   ]
  },
  {
   "cell_type": "code",
   "execution_count": 22,
   "metadata": {},
   "outputs": [
    {
     "data": {
      "text/plain": [
       "0.0"
      ]
     },
     "execution_count": 22,
     "metadata": {},
     "output_type": "execute_result"
    }
   ],
   "source": [
    "housing_predictions = tree_reg.predict(housing_prepared)\n",
    "tree_mse = mean_squared_error(housing_labels, housing_predictions)\n",
    "tree_rmse = np.sqrt(tree_mse)\n",
    "tree_rmse"
   ]
  },
  {
   "cell_type": "markdown",
   "metadata": {},
   "source": [
    "Evaluation Using Cross-Validation"
   ]
  },
  {
   "cell_type": "code",
   "execution_count": 23,
   "metadata": {},
   "outputs": [],
   "source": [
    "from sklearn.model_selection import cross_val_score\n",
    "\n",
    "scores = cross_val_score(tree_reg, housing_prepared, housing_labels,\n",
    "                         scoring=\"neg_mean_squared_error\", cv=10)\n",
    "tree_rmse_scores = np.sqrt(-scores)"
   ]
  },
  {
   "cell_type": "code",
   "execution_count": 24,
   "metadata": {},
   "outputs": [
    {
     "name": "stdout",
     "output_type": "stream",
     "text": [
      "Scores: [72831.45749112 69973.18438322 69528.56551415 72517.78229792\n",
      " 69145.50006909 79094.74123727 68960.045444   73344.50225684\n",
      " 69826.02473916 71077.09753998]\n",
      "Mean: 71629.89009727491\n",
      "Standard deviation: 2914.035468468928\n"
     ]
    }
   ],
   "source": [
    "def display_scores(scores):\n",
    "    print(\"Scores:\", scores)\n",
    "    print(\"Mean:\", scores.mean())\n",
    "    print(\"Standard deviation:\", scores.std())\n",
    "\n",
    "display_scores(tree_rmse_scores)"
   ]
  },
  {
   "cell_type": "code",
   "execution_count": 25,
   "metadata": {},
   "outputs": [
    {
     "name": "stdout",
     "output_type": "stream",
     "text": [
      "Scores: [71762.76364394 64114.99166359 67771.17124356 68635.19072082\n",
      " 66846.14089488 72528.03725385 73997.08050233 68802.33629334\n",
      " 66443.28836884 70139.79923956]\n",
      "Mean: 69104.07998247063\n",
      "Standard deviation: 2880.32820981807\n"
     ]
    }
   ],
   "source": [
    "lin_scores = cross_val_score(lin_reg, housing_prepared, housing_labels,\n",
    "                             scoring=\"neg_mean_squared_error\", cv=10)\n",
    "lin_rmse_scores = np.sqrt(-lin_scores)\n",
    "display_scores(lin_rmse_scores)"
   ]
  },
  {
   "cell_type": "markdown",
   "metadata": {},
   "source": [
    "## Train Random Forest Regression model on prepared data set"
   ]
  },
  {
   "cell_type": "code",
   "execution_count": 26,
   "metadata": {},
   "outputs": [
    {
     "data": {
      "text/plain": [
       "RandomForestRegressor(random_state=42)"
      ]
     },
     "execution_count": 26,
     "metadata": {},
     "output_type": "execute_result"
    }
   ],
   "source": [
    "from sklearn.ensemble import RandomForestRegressor\n",
    "\n",
    "forest_reg = RandomForestRegressor(n_estimators=100, random_state=42)\n",
    "forest_reg.fit(housing_prepared, housing_labels)"
   ]
  },
  {
   "cell_type": "code",
   "execution_count": 27,
   "metadata": {},
   "outputs": [
    {
     "data": {
      "text/plain": [
       "18650.698705770003"
      ]
     },
     "execution_count": 27,
     "metadata": {},
     "output_type": "execute_result"
    }
   ],
   "source": [
    "housing_predictions = forest_reg.predict(housing_prepared)\n",
    "forest_mse = mean_squared_error(housing_labels, housing_predictions)\n",
    "forest_rmse = np.sqrt(forest_mse)\n",
    "forest_rmse"
   ]
  },
  {
   "cell_type": "markdown",
   "metadata": {},
   "source": [
    "Evaluation Using Cross-Validation"
   ]
  },
  {
   "cell_type": "code",
   "execution_count": 28,
   "metadata": {},
   "outputs": [
    {
     "name": "stdout",
     "output_type": "stream",
     "text": [
      "Scores: [51559.63379638 48737.57100062 47210.51269766 51875.21247297\n",
      " 47577.50470123 51863.27467888 52746.34645573 50065.1762751\n",
      " 48664.66818196 54055.90894609]\n",
      "Mean: 50435.58092066179\n",
      "Standard deviation: 2203.3381412764606\n"
     ]
    }
   ],
   "source": [
    "from sklearn.model_selection import cross_val_score\n",
    "\n",
    "forest_scores = cross_val_score(forest_reg, housing_prepared, housing_labels,\n",
    "                                scoring=\"neg_mean_squared_error\", cv=10)\n",
    "forest_rmse_scores = np.sqrt(-forest_scores)\n",
    "display_scores(forest_rmse_scores)"
   ]
  },
  {
   "cell_type": "code",
   "execution_count": 29,
   "metadata": {},
   "outputs": [
    {
     "data": {
      "text/plain": [
       "count       10.000000\n",
       "mean     69104.079982\n",
       "std       3036.132517\n",
       "min      64114.991664\n",
       "25%      67077.398482\n",
       "50%      68718.763507\n",
       "75%      71357.022543\n",
       "max      73997.080502\n",
       "dtype: float64"
      ]
     },
     "execution_count": 29,
     "metadata": {},
     "output_type": "execute_result"
    }
   ],
   "source": [
    "scores = cross_val_score(lin_reg, housing_prepared, housing_labels, scoring=\"neg_mean_squared_error\", cv=10)\n",
    "pd.Series(np.sqrt(-scores)).describe()"
   ]
  },
  {
   "cell_type": "markdown",
   "metadata": {},
   "source": [
    "Support Vector Machine regressor"
   ]
  },
  {
   "cell_type": "code",
   "execution_count": 31,
   "metadata": {},
   "outputs": [
    {
     "data": {
      "text/plain": [
       "111095.06635291966"
      ]
     },
     "execution_count": 31,
     "metadata": {},
     "output_type": "execute_result"
    }
   ],
   "source": [
    "from sklearn.svm import SVR\n",
    "\n",
    "svm_reg = SVR(kernel=\"linear\")\n",
    "svm_reg.fit(housing_prepared, housing_labels)\n",
    "housing_predictions = svm_reg.predict(housing_prepared)\n",
    "svm_mse = mean_squared_error(housing_labels, housing_predictions)\n",
    "svm_rmse = np.sqrt(svm_mse)\n",
    "svm_rmse"
   ]
  },
  {
   "cell_type": "code",
   "execution_count": 32,
   "metadata": {},
   "outputs": [
    {
     "name": "stdout",
     "output_type": "stream",
     "text": [
      "Fitting 5 folds for each of 50 candidates, totalling 250 fits\n",
      "[CV] END ..............................C=10.0, kernel=linear; total time=   5.3s\n",
      "[CV] END ..............................C=10.0, kernel=linear; total time=   5.1s\n",
      "[CV] END ..............................C=10.0, kernel=linear; total time=   5.1s\n",
      "[CV] END ..............................C=10.0, kernel=linear; total time=   5.1s\n",
      "[CV] END ..............................C=10.0, kernel=linear; total time=   5.0s\n",
      "[CV] END ..............................C=30.0, kernel=linear; total time=   4.8s\n",
      "[CV] END ..............................C=30.0, kernel=linear; total time=   4.7s\n",
      "[CV] END ..............................C=30.0, kernel=linear; total time=   4.7s\n",
      "[CV] END ..............................C=30.0, kernel=linear; total time=   4.6s\n",
      "[CV] END ..............................C=30.0, kernel=linear; total time=   4.7s\n",
      "[CV] END .............................C=100.0, kernel=linear; total time=   4.8s\n",
      "[CV] END .............................C=100.0, kernel=linear; total time=   4.6s\n",
      "[CV] END .............................C=100.0, kernel=linear; total time=   4.5s\n",
      "[CV] END .............................C=100.0, kernel=linear; total time=   4.7s\n",
      "[CV] END .............................C=100.0, kernel=linear; total time=   4.6s\n",
      "[CV] END .............................C=300.0, kernel=linear; total time=   4.9s\n",
      "[CV] END .............................C=300.0, kernel=linear; total time=   4.6s\n",
      "[CV] END .............................C=300.0, kernel=linear; total time=   4.6s\n",
      "[CV] END .............................C=300.0, kernel=linear; total time=   4.6s\n",
      "[CV] END .............................C=300.0, kernel=linear; total time=   4.7s\n",
      "[CV] END ............................C=1000.0, kernel=linear; total time=   4.7s\n",
      "[CV] END ............................C=1000.0, kernel=linear; total time=   4.8s\n",
      "[CV] END ............................C=1000.0, kernel=linear; total time=   5.2s\n",
      "[CV] END ............................C=1000.0, kernel=linear; total time=   8.1s\n",
      "[CV] END ............................C=1000.0, kernel=linear; total time=   9.3s\n",
      "[CV] END ............................C=3000.0, kernel=linear; total time=   5.1s\n",
      "[CV] END ............................C=3000.0, kernel=linear; total time=   5.2s\n",
      "[CV] END ............................C=3000.0, kernel=linear; total time=   4.9s\n",
      "[CV] END ............................C=3000.0, kernel=linear; total time=  10.4s\n",
      "[CV] END ............................C=3000.0, kernel=linear; total time=  15.5s\n",
      "[CV] END ...........................C=10000.0, kernel=linear; total time=  17.4s\n",
      "[CV] END ...........................C=10000.0, kernel=linear; total time=  17.8s\n",
      "[CV] END ...........................C=10000.0, kernel=linear; total time=  12.6s\n",
      "[CV] END ...........................C=10000.0, kernel=linear; total time=   6.0s\n",
      "[CV] END ...........................C=10000.0, kernel=linear; total time=   6.3s\n",
      "[CV] END ...........................C=30000.0, kernel=linear; total time=   9.5s\n",
      "[CV] END ...........................C=30000.0, kernel=linear; total time=   9.3s\n",
      "[CV] END ...........................C=30000.0, kernel=linear; total time=   9.0s\n",
      "[CV] END ...........................C=30000.0, kernel=linear; total time=  11.6s\n",
      "[CV] END ...........................C=30000.0, kernel=linear; total time=  21.7s\n",
      "[CV] END ......................C=1.0, gamma=0.01, kernel=rbf; total time=   7.5s\n",
      "[CV] END ......................C=1.0, gamma=0.01, kernel=rbf; total time=  11.2s\n",
      "[CV] END ......................C=1.0, gamma=0.01, kernel=rbf; total time=  22.1s\n",
      "[CV] END ......................C=1.0, gamma=0.01, kernel=rbf; total time=  21.8s\n",
      "[CV] END ......................C=1.0, gamma=0.01, kernel=rbf; total time=  21.7s\n",
      "[CV] END ......................C=1.0, gamma=0.03, kernel=rbf; total time=  22.1s\n",
      "[CV] END ......................C=1.0, gamma=0.03, kernel=rbf; total time=  21.9s\n",
      "[CV] END ......................C=1.0, gamma=0.03, kernel=rbf; total time=  17.4s\n",
      "[CV] END ......................C=1.0, gamma=0.03, kernel=rbf; total time=   7.2s\n",
      "[CV] END ......................C=1.0, gamma=0.03, kernel=rbf; total time=   7.2s\n",
      "[CV] END .......................C=1.0, gamma=0.1, kernel=rbf; total time=   7.2s\n",
      "[CV] END .......................C=1.0, gamma=0.1, kernel=rbf; total time=   8.2s\n",
      "[CV] END .......................C=1.0, gamma=0.1, kernel=rbf; total time=   7.7s\n",
      "[CV] END .......................C=1.0, gamma=0.1, kernel=rbf; total time=   7.8s\n",
      "[CV] END .......................C=1.0, gamma=0.1, kernel=rbf; total time=   7.1s\n",
      "[CV] END .......................C=1.0, gamma=0.3, kernel=rbf; total time=   7.0s\n",
      "[CV] END .......................C=1.0, gamma=0.3, kernel=rbf; total time=   7.0s\n",
      "[CV] END .......................C=1.0, gamma=0.3, kernel=rbf; total time=   7.1s\n",
      "[CV] END .......................C=1.0, gamma=0.3, kernel=rbf; total time=   7.0s\n",
      "[CV] END .......................C=1.0, gamma=0.3, kernel=rbf; total time=   6.8s\n",
      "[CV] END .......................C=1.0, gamma=1.0, kernel=rbf; total time=   6.7s\n",
      "[CV] END .......................C=1.0, gamma=1.0, kernel=rbf; total time=   6.9s\n",
      "[CV] END .......................C=1.0, gamma=1.0, kernel=rbf; total time=   6.8s\n",
      "[CV] END .......................C=1.0, gamma=1.0, kernel=rbf; total time=   6.7s\n",
      "[CV] END .......................C=1.0, gamma=1.0, kernel=rbf; total time=   6.6s\n",
      "[CV] END .......................C=1.0, gamma=3.0, kernel=rbf; total time=   7.1s\n",
      "[CV] END .......................C=1.0, gamma=3.0, kernel=rbf; total time=   7.3s\n",
      "[CV] END .......................C=1.0, gamma=3.0, kernel=rbf; total time=   7.3s\n",
      "[CV] END .......................C=1.0, gamma=3.0, kernel=rbf; total time=   7.4s\n",
      "[CV] END .......................C=1.0, gamma=3.0, kernel=rbf; total time=   7.2s\n",
      "[CV] END ......................C=3.0, gamma=0.01, kernel=rbf; total time=   7.2s\n",
      "[CV] END ......................C=3.0, gamma=0.01, kernel=rbf; total time=   7.2s\n",
      "[CV] END ......................C=3.0, gamma=0.01, kernel=rbf; total time=   7.1s\n",
      "[CV] END ......................C=3.0, gamma=0.01, kernel=rbf; total time=   7.4s\n",
      "[CV] END ......................C=3.0, gamma=0.01, kernel=rbf; total time=   7.3s\n",
      "[CV] END ......................C=3.0, gamma=0.03, kernel=rbf; total time=   7.4s\n",
      "[CV] END ......................C=3.0, gamma=0.03, kernel=rbf; total time=   7.3s\n",
      "[CV] END ......................C=3.0, gamma=0.03, kernel=rbf; total time=   7.4s\n",
      "[CV] END ......................C=3.0, gamma=0.03, kernel=rbf; total time=   7.4s\n",
      "[CV] END ......................C=3.0, gamma=0.03, kernel=rbf; total time=   7.3s\n",
      "[CV] END .......................C=3.0, gamma=0.1, kernel=rbf; total time=   7.4s\n",
      "[CV] END .......................C=3.0, gamma=0.1, kernel=rbf; total time=   7.3s\n",
      "[CV] END .......................C=3.0, gamma=0.1, kernel=rbf; total time=   7.2s\n",
      "[CV] END .......................C=3.0, gamma=0.1, kernel=rbf; total time=   7.2s\n",
      "[CV] END .......................C=3.0, gamma=0.1, kernel=rbf; total time=   7.1s\n",
      "[CV] END .......................C=3.0, gamma=0.3, kernel=rbf; total time=   7.1s\n",
      "[CV] END .......................C=3.0, gamma=0.3, kernel=rbf; total time=   7.0s\n",
      "[CV] END .......................C=3.0, gamma=0.3, kernel=rbf; total time=   7.0s\n",
      "[CV] END .......................C=3.0, gamma=0.3, kernel=rbf; total time=   7.2s\n",
      "[CV] END .......................C=3.0, gamma=0.3, kernel=rbf; total time=   7.0s\n",
      "[CV] END .......................C=3.0, gamma=1.0, kernel=rbf; total time=   6.8s\n",
      "[CV] END .......................C=3.0, gamma=1.0, kernel=rbf; total time=   7.0s\n",
      "[CV] END .......................C=3.0, gamma=1.0, kernel=rbf; total time=  18.7s\n",
      "[CV] END .......................C=3.0, gamma=1.0, kernel=rbf; total time=  20.9s\n",
      "[CV] END .......................C=3.0, gamma=1.0, kernel=rbf; total time=  20.8s\n",
      "[CV] END .......................C=3.0, gamma=3.0, kernel=rbf; total time=  15.1s\n",
      "[CV] END .......................C=3.0, gamma=3.0, kernel=rbf; total time=   7.1s\n",
      "[CV] END .......................C=3.0, gamma=3.0, kernel=rbf; total time=   7.2s\n",
      "[CV] END .......................C=3.0, gamma=3.0, kernel=rbf; total time=   7.9s\n",
      "[CV] END .......................C=3.0, gamma=3.0, kernel=rbf; total time=  20.0s\n",
      "[CV] END .....................C=10.0, gamma=0.01, kernel=rbf; total time=  21.9s\n",
      "[CV] END .....................C=10.0, gamma=0.01, kernel=rbf; total time=  22.3s\n",
      "[CV] END .....................C=10.0, gamma=0.01, kernel=rbf; total time=  22.3s\n",
      "[CV] END .....................C=10.0, gamma=0.01, kernel=rbf; total time=  22.1s\n",
      "[CV] END .....................C=10.0, gamma=0.01, kernel=rbf; total time=  22.7s\n",
      "[CV] END .....................C=10.0, gamma=0.03, kernel=rbf; total time=  22.4s\n",
      "[CV] END .....................C=10.0, gamma=0.03, kernel=rbf; total time=  21.7s\n",
      "[CV] END .....................C=10.0, gamma=0.03, kernel=rbf; total time=  12.8s\n",
      "[CV] END .....................C=10.0, gamma=0.03, kernel=rbf; total time=   7.1s\n",
      "[CV] END .....................C=10.0, gamma=0.03, kernel=rbf; total time=   7.0s\n",
      "[CV] END ......................C=10.0, gamma=0.1, kernel=rbf; total time=   6.8s\n",
      "[CV] END ......................C=10.0, gamma=0.1, kernel=rbf; total time=   6.9s\n",
      "[CV] END ......................C=10.0, gamma=0.1, kernel=rbf; total time=   6.9s\n",
      "[CV] END ......................C=10.0, gamma=0.1, kernel=rbf; total time=   6.9s\n",
      "[CV] END ......................C=10.0, gamma=0.1, kernel=rbf; total time=   7.0s\n",
      "[CV] END ......................C=10.0, gamma=0.3, kernel=rbf; total time=   6.9s\n",
      "[CV] END ......................C=10.0, gamma=0.3, kernel=rbf; total time=   6.8s\n",
      "[CV] END ......................C=10.0, gamma=0.3, kernel=rbf; total time=   6.8s\n",
      "[CV] END ......................C=10.0, gamma=0.3, kernel=rbf; total time=   6.9s\n",
      "[CV] END ......................C=10.0, gamma=0.3, kernel=rbf; total time=   6.8s\n",
      "[CV] END ......................C=10.0, gamma=1.0, kernel=rbf; total time=   6.5s\n",
      "[CV] END ......................C=10.0, gamma=1.0, kernel=rbf; total time=   6.7s\n",
      "[CV] END ......................C=10.0, gamma=1.0, kernel=rbf; total time=   6.7s\n",
      "[CV] END ......................C=10.0, gamma=1.0, kernel=rbf; total time=   6.8s\n",
      "[CV] END ......................C=10.0, gamma=1.0, kernel=rbf; total time=   6.6s\n",
      "[CV] END ......................C=10.0, gamma=3.0, kernel=rbf; total time=   6.9s\n",
      "[CV] END ......................C=10.0, gamma=3.0, kernel=rbf; total time=   7.0s\n",
      "[CV] END ......................C=10.0, gamma=3.0, kernel=rbf; total time=   7.0s\n",
      "[CV] END ......................C=10.0, gamma=3.0, kernel=rbf; total time=   7.1s\n",
      "[CV] END ......................C=10.0, gamma=3.0, kernel=rbf; total time=   7.1s\n",
      "[CV] END .....................C=30.0, gamma=0.01, kernel=rbf; total time=   7.1s\n",
      "[CV] END .....................C=30.0, gamma=0.01, kernel=rbf; total time=   7.1s\n",
      "[CV] END .....................C=30.0, gamma=0.01, kernel=rbf; total time=   7.0s\n",
      "[CV] END .....................C=30.0, gamma=0.01, kernel=rbf; total time=   7.0s\n",
      "[CV] END .....................C=30.0, gamma=0.01, kernel=rbf; total time=   7.0s\n",
      "[CV] END .....................C=30.0, gamma=0.03, kernel=rbf; total time=   7.0s\n",
      "[CV] END .....................C=30.0, gamma=0.03, kernel=rbf; total time=   7.0s\n",
      "[CV] END .....................C=30.0, gamma=0.03, kernel=rbf; total time=   7.0s\n",
      "[CV] END .....................C=30.0, gamma=0.03, kernel=rbf; total time=   7.0s\n",
      "[CV] END .....................C=30.0, gamma=0.03, kernel=rbf; total time=   7.1s\n",
      "[CV] END ......................C=30.0, gamma=0.1, kernel=rbf; total time=   7.0s\n",
      "[CV] END ......................C=30.0, gamma=0.1, kernel=rbf; total time=   7.0s\n",
      "[CV] END ......................C=30.0, gamma=0.1, kernel=rbf; total time=   6.9s\n",
      "[CV] END ......................C=30.0, gamma=0.1, kernel=rbf; total time=   7.0s\n",
      "[CV] END ......................C=30.0, gamma=0.1, kernel=rbf; total time=   6.9s\n",
      "[CV] END ......................C=30.0, gamma=0.3, kernel=rbf; total time=   6.6s\n",
      "[CV] END ......................C=30.0, gamma=0.3, kernel=rbf; total time=   6.8s\n",
      "[CV] END ......................C=30.0, gamma=0.3, kernel=rbf; total time=   6.9s\n",
      "[CV] END ......................C=30.0, gamma=0.3, kernel=rbf; total time=   6.9s\n",
      "[CV] END ......................C=30.0, gamma=0.3, kernel=rbf; total time=   6.8s\n",
      "[CV] END ......................C=30.0, gamma=1.0, kernel=rbf; total time=   6.7s\n",
      "[CV] END ......................C=30.0, gamma=1.0, kernel=rbf; total time=   6.9s\n",
      "[CV] END ......................C=30.0, gamma=1.0, kernel=rbf; total time=   7.0s\n",
      "[CV] END ......................C=30.0, gamma=1.0, kernel=rbf; total time=   7.1s\n",
      "[CV] END ......................C=30.0, gamma=1.0, kernel=rbf; total time=   7.1s\n",
      "[CV] END ......................C=30.0, gamma=3.0, kernel=rbf; total time=   7.8s\n",
      "[CV] END ......................C=30.0, gamma=3.0, kernel=rbf; total time=  11.2s\n",
      "[CV] END ......................C=30.0, gamma=3.0, kernel=rbf; total time=  25.8s\n",
      "[CV] END ......................C=30.0, gamma=3.0, kernel=rbf; total time=  24.5s\n",
      "[CV] END ......................C=30.0, gamma=3.0, kernel=rbf; total time=  25.1s\n",
      "[CV] END ....................C=100.0, gamma=0.01, kernel=rbf; total time=  22.8s\n",
      "[CV] END ....................C=100.0, gamma=0.01, kernel=rbf; total time=  22.0s\n",
      "[CV] END ....................C=100.0, gamma=0.01, kernel=rbf; total time=  22.4s\n",
      "[CV] END ....................C=100.0, gamma=0.01, kernel=rbf; total time=  22.1s\n",
      "[CV] END ....................C=100.0, gamma=0.01, kernel=rbf; total time=  22.9s\n",
      "[CV] END ....................C=100.0, gamma=0.03, kernel=rbf; total time=  23.2s\n",
      "[CV] END ....................C=100.0, gamma=0.03, kernel=rbf; total time=  22.3s\n",
      "[CV] END ....................C=100.0, gamma=0.03, kernel=rbf; total time=  22.2s\n",
      "[CV] END ....................C=100.0, gamma=0.03, kernel=rbf; total time=  22.6s\n",
      "[CV] END ....................C=100.0, gamma=0.03, kernel=rbf; total time=  21.8s\n",
      "[CV] END .....................C=100.0, gamma=0.1, kernel=rbf; total time=  22.5s\n",
      "[CV] END .....................C=100.0, gamma=0.1, kernel=rbf; total time=  21.7s\n",
      "[CV] END .....................C=100.0, gamma=0.1, kernel=rbf; total time=  21.2s\n",
      "[CV] END .....................C=100.0, gamma=0.1, kernel=rbf; total time=  21.3s\n",
      "[CV] END .....................C=100.0, gamma=0.1, kernel=rbf; total time=  21.4s\n",
      "[CV] END .....................C=100.0, gamma=0.3, kernel=rbf; total time=  22.0s\n",
      "[CV] END .....................C=100.0, gamma=0.3, kernel=rbf; total time=  22.3s\n",
      "[CV] END .....................C=100.0, gamma=0.3, kernel=rbf; total time=  19.6s\n",
      "[CV] END .....................C=100.0, gamma=0.3, kernel=rbf; total time=   6.8s\n",
      "[CV] END .....................C=100.0, gamma=0.3, kernel=rbf; total time=   6.8s\n",
      "[CV] END .....................C=100.0, gamma=1.0, kernel=rbf; total time=   6.6s\n",
      "[CV] END .....................C=100.0, gamma=1.0, kernel=rbf; total time=   6.6s\n",
      "[CV] END .....................C=100.0, gamma=1.0, kernel=rbf; total time=   6.6s\n",
      "[CV] END .....................C=100.0, gamma=1.0, kernel=rbf; total time=   6.5s\n",
      "[CV] END .....................C=100.0, gamma=1.0, kernel=rbf; total time=   6.7s\n",
      "[CV] END .....................C=100.0, gamma=3.0, kernel=rbf; total time=   7.2s\n",
      "[CV] END .....................C=100.0, gamma=3.0, kernel=rbf; total time=   7.3s\n",
      "[CV] END .....................C=100.0, gamma=3.0, kernel=rbf; total time=   7.3s\n",
      "[CV] END .....................C=100.0, gamma=3.0, kernel=rbf; total time=   7.2s\n",
      "[CV] END .....................C=100.0, gamma=3.0, kernel=rbf; total time=   7.1s\n",
      "[CV] END ....................C=300.0, gamma=0.01, kernel=rbf; total time=   6.9s\n",
      "[CV] END ....................C=300.0, gamma=0.01, kernel=rbf; total time=   7.0s\n",
      "[CV] END ....................C=300.0, gamma=0.01, kernel=rbf; total time=   7.2s\n",
      "[CV] END ....................C=300.0, gamma=0.01, kernel=rbf; total time=   7.2s\n",
      "[CV] END ....................C=300.0, gamma=0.01, kernel=rbf; total time=   7.1s\n",
      "[CV] END ....................C=300.0, gamma=0.03, kernel=rbf; total time=   7.1s\n",
      "[CV] END ....................C=300.0, gamma=0.03, kernel=rbf; total time=   7.1s\n",
      "[CV] END ....................C=300.0, gamma=0.03, kernel=rbf; total time=   9.6s\n",
      "[CV] END ....................C=300.0, gamma=0.03, kernel=rbf; total time=  13.9s\n",
      "[CV] END ....................C=300.0, gamma=0.03, kernel=rbf; total time=   7.0s\n",
      "[CV] END .....................C=300.0, gamma=0.1, kernel=rbf; total time=   6.8s\n",
      "[CV] END .....................C=300.0, gamma=0.1, kernel=rbf; total time=   7.1s\n",
      "[CV] END .....................C=300.0, gamma=0.1, kernel=rbf; total time=   7.2s\n",
      "[CV] END .....................C=300.0, gamma=0.1, kernel=rbf; total time=   7.2s\n",
      "[CV] END .....................C=300.0, gamma=0.1, kernel=rbf; total time=   7.0s\n",
      "[CV] END .....................C=300.0, gamma=0.3, kernel=rbf; total time=   6.9s\n",
      "[CV] END .....................C=300.0, gamma=0.3, kernel=rbf; total time=   7.0s\n",
      "[CV] END .....................C=300.0, gamma=0.3, kernel=rbf; total time=   7.0s\n",
      "[CV] END .....................C=300.0, gamma=0.3, kernel=rbf; total time=   7.2s\n",
      "[CV] END .....................C=300.0, gamma=0.3, kernel=rbf; total time=   7.0s\n",
      "[CV] END .....................C=300.0, gamma=1.0, kernel=rbf; total time=   7.0s\n",
      "[CV] END .....................C=300.0, gamma=1.0, kernel=rbf; total time=   7.2s\n",
      "[CV] END .....................C=300.0, gamma=1.0, kernel=rbf; total time=   7.0s\n",
      "[CV] END .....................C=300.0, gamma=1.0, kernel=rbf; total time=   7.1s\n",
      "[CV] END .....................C=300.0, gamma=1.0, kernel=rbf; total time=   7.1s\n",
      "[CV] END .....................C=300.0, gamma=3.0, kernel=rbf; total time=  22.0s\n",
      "[CV] END .....................C=300.0, gamma=3.0, kernel=rbf; total time=  25.6s\n",
      "[CV] END .....................C=300.0, gamma=3.0, kernel=rbf; total time=  13.0s\n",
      "[CV] END .....................C=300.0, gamma=3.0, kernel=rbf; total time=   7.5s\n",
      "[CV] END .....................C=300.0, gamma=3.0, kernel=rbf; total time=   7.2s\n",
      "[CV] END ...................C=1000.0, gamma=0.01, kernel=rbf; total time=   7.0s\n",
      "[CV] END ...................C=1000.0, gamma=0.01, kernel=rbf; total time=   6.9s\n",
      "[CV] END ...................C=1000.0, gamma=0.01, kernel=rbf; total time=   6.9s\n",
      "[CV] END ...................C=1000.0, gamma=0.01, kernel=rbf; total time=   6.9s\n",
      "[CV] END ...................C=1000.0, gamma=0.01, kernel=rbf; total time=   6.8s\n",
      "[CV] END ...................C=1000.0, gamma=0.03, kernel=rbf; total time=   6.7s\n",
      "[CV] END ...................C=1000.0, gamma=0.03, kernel=rbf; total time=   6.7s\n",
      "[CV] END ...................C=1000.0, gamma=0.03, kernel=rbf; total time=   6.7s\n",
      "[CV] END ...................C=1000.0, gamma=0.03, kernel=rbf; total time=   6.7s\n",
      "[CV] END ...................C=1000.0, gamma=0.03, kernel=rbf; total time=   6.7s\n",
      "[CV] END ....................C=1000.0, gamma=0.1, kernel=rbf; total time=   6.7s\n",
      "[CV] END ....................C=1000.0, gamma=0.1, kernel=rbf; total time=   6.7s\n",
      "[CV] END ....................C=1000.0, gamma=0.1, kernel=rbf; total time=   6.8s\n",
      "[CV] END ....................C=1000.0, gamma=0.1, kernel=rbf; total time=   6.6s\n",
      "[CV] END ....................C=1000.0, gamma=0.1, kernel=rbf; total time=   6.6s\n",
      "[CV] END ....................C=1000.0, gamma=0.3, kernel=rbf; total time=   6.6s\n",
      "[CV] END ....................C=1000.0, gamma=0.3, kernel=rbf; total time=   6.6s\n",
      "[CV] END ....................C=1000.0, gamma=0.3, kernel=rbf; total time=   6.7s\n",
      "[CV] END ....................C=1000.0, gamma=0.3, kernel=rbf; total time=   6.8s\n",
      "[CV] END ....................C=1000.0, gamma=0.3, kernel=rbf; total time=   6.8s\n",
      "[CV] END ....................C=1000.0, gamma=1.0, kernel=rbf; total time=   6.7s\n",
      "[CV] END ....................C=1000.0, gamma=1.0, kernel=rbf; total time=   6.8s\n",
      "[CV] END ....................C=1000.0, gamma=1.0, kernel=rbf; total time=   6.6s\n",
      "[CV] END ....................C=1000.0, gamma=1.0, kernel=rbf; total time=   6.6s\n",
      "[CV] END ....................C=1000.0, gamma=1.0, kernel=rbf; total time=   6.7s\n",
      "[CV] END ....................C=1000.0, gamma=3.0, kernel=rbf; total time=   7.3s\n",
      "[CV] END ....................C=1000.0, gamma=3.0, kernel=rbf; total time=   7.4s\n",
      "[CV] END ....................C=1000.0, gamma=3.0, kernel=rbf; total time=   7.4s\n",
      "[CV] END ....................C=1000.0, gamma=3.0, kernel=rbf; total time=   7.4s\n",
      "[CV] END ....................C=1000.0, gamma=3.0, kernel=rbf; total time=   7.4s\n"
     ]
    },
    {
     "data": {
      "text/plain": [
       "GridSearchCV(cv=5, estimator=SVR(),\n",
       "             param_grid=[{'C': [10.0, 30.0, 100.0, 300.0, 1000.0, 3000.0,\n",
       "                                10000.0, 30000.0],\n",
       "                          'kernel': ['linear']},\n",
       "                         {'C': [1.0, 3.0, 10.0, 30.0, 100.0, 300.0, 1000.0],\n",
       "                          'gamma': [0.01, 0.03, 0.1, 0.3, 1.0, 3.0],\n",
       "                          'kernel': ['rbf']}],\n",
       "             scoring='neg_mean_squared_error', verbose=2)"
      ]
     },
     "execution_count": 32,
     "metadata": {},
     "output_type": "execute_result"
    }
   ],
   "source": [
    "from sklearn.model_selection import GridSearchCV\n",
    "\n",
    "param_grid = [\n",
    "        {'kernel': ['linear'], 'C': [10., 30., 100., 300., 1000., 3000., 10000., 30000.0]},\n",
    "        {'kernel': ['rbf'], 'C': [1.0, 3.0, 10., 30., 100., 300., 1000.0],\n",
    "         'gamma': [0.01, 0.03, 0.1, 0.3, 1.0, 3.0]},\n",
    "    ]\n",
    "\n",
    "svm_reg = SVR()\n",
    "grid_search = GridSearchCV(svm_reg, param_grid, cv=5, scoring='neg_mean_squared_error', verbose=2)\n",
    "grid_search.fit(housing_prepared, housing_labels)"
   ]
  },
  {
   "cell_type": "code",
   "execution_count": 33,
   "metadata": {},
   "outputs": [
    {
     "data": {
      "text/plain": [
       "70286.61836530612"
      ]
     },
     "execution_count": 33,
     "metadata": {},
     "output_type": "execute_result"
    }
   ],
   "source": [
    "negative_mse = grid_search.best_score_\n",
    "rmse = np.sqrt(-negative_mse)\n",
    "rmse"
   ]
  }
 ],
 "metadata": {
  "kernelspec": {
   "display_name": "Python 3 (ipykernel)",
   "language": "python",
   "name": "python3"
  },
  "language_info": {
   "codemirror_mode": {
    "name": "ipython",
    "version": 3
   },
   "file_extension": ".py",
   "mimetype": "text/x-python",
   "name": "python",
   "nbconvert_exporter": "python",
   "pygments_lexer": "ipython3",
   "version": "3.8.19"
  }
 },
 "nbformat": 4,
 "nbformat_minor": 2
}
